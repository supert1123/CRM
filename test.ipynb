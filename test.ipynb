{
 "cells": [
  {
   "cell_type": "code",
   "execution_count": 15,
   "metadata": {},
   "outputs": [],
   "source": [
    "contents = [\n",
    "        {\n",
    "            \"name\": \"dd\",\n",
    "            \"replace_with\": \"20\",\n",
    "            \"index\": [2]\n",
    "        },\n",
    "        {\n",
    "            \"name\": \"dd\",\n",
    "            \"replace_with\": \"08\",\n",
    "            \"index\": [3]\n",
    "        },\n",
    "        {\n",
    "            \"name\": \"dd\",\n",
    "            \"replace_with\": \"2022\",\n",
    "            \"index\": [4]\n",
    "\n",
    "        },\n",
    "        {\n",
    "            \"name\": \"dd\",\n",
    "            \"replace_with\": \"2022\",\n",
    "            \"index\": [5]\n",
    "\n",
    "        }\n",
    "    ]"
   ]
  },
  {
   "cell_type": "code",
   "execution_count": 16,
   "metadata": {},
   "outputs": [],
   "source": [
    "dict_keys = []\n",
    "for content in contents:\n",
    "        a_key = {}\n",
    "        # count += 1\n",
    "        key = content['name']\n",
    "        value = content['replace_with']\n",
    "        numberList = content['index']\n",
    "        checkin = False\n",
    "        for i in range(len(dict_keys)):\n",
    "            if key in dict_keys[i]:\n",
    "                dict_keys[i][key][value]=[num for num in numberList]\n",
    "                checkin = True\n",
    "        if not checkin:\n",
    "            dict_keys.append({key:{value:numberList}})\n",
    "        # if key not in dict_keys:\n",
    "        #     dict_keys[key] = {}\n",
    "        # if value not in dict_keys:\n",
    "        #     dict_keys[key][value] = []\n",
    "        # for num in numberList:\n",
    "        #     dict_keys[key][value].append(num)"
   ]
  },
  {
   "cell_type": "code",
   "execution_count": 17,
   "metadata": {},
   "outputs": [
    {
     "data": {
      "text/plain": [
       "[{'dd': {'20': [2], '08': [3], '2022': [5]}}]"
      ]
     },
     "execution_count": 17,
     "metadata": {},
     "output_type": "execute_result"
    }
   ],
   "source": [
    "dict_keys"
   ]
  },
  {
   "cell_type": "code",
   "execution_count": 18,
   "metadata": {},
   "outputs": [
    {
     "data": {
      "text/plain": [
       "1"
      ]
     },
     "execution_count": 18,
     "metadata": {},
     "output_type": "execute_result"
    }
   ],
   "source": [
    "len(dict_keys)"
   ]
  },
  {
   "cell_type": "code",
   "execution_count": 22,
   "metadata": {},
   "outputs": [
    {
     "name": "stdout",
     "output_type": "stream",
     "text": [
      "{'dd': {'20': [2], '08': [3], '2022': [5]}}\n",
      "dd\n"
     ]
    }
   ],
   "source": [
    "for d in dict_keys:\n",
    "    print(d)\n",
    "    for x in d:\n",
    "        print(x)\n"
   ]
  },
  {
   "cell_type": "code",
   "execution_count": null,
   "metadata": {},
   "outputs": [],
   "source": []
  }
 ],
 "metadata": {
  "kernelspec": {
   "display_name": "Python 3.8.10 64-bit",
   "language": "python",
   "name": "python3"
  },
  "language_info": {
   "codemirror_mode": {
    "name": "ipython",
    "version": 3
   },
   "file_extension": ".py",
   "mimetype": "text/x-python",
   "name": "python",
   "nbconvert_exporter": "python",
   "pygments_lexer": "ipython3",
   "version": "3.8.10"
  },
  "orig_nbformat": 4,
  "vscode": {
   "interpreter": {
    "hash": "916dbcbb3f70747c44a77c7bcd40155683ae19c65e1c03b4aa3499c5328201f1"
   }
  }
 },
 "nbformat": 4,
 "nbformat_minor": 2
}
